{
 "cells": [
  {
   "cell_type": "markdown",
   "id": "bfa61532",
   "metadata": {},
   "source": [
    "# Automate Whatsapp By Kanwar Adnan"
   ]
  },
  {
   "cell_type": "code",
   "execution_count": 74,
   "id": "7abb0f90",
   "metadata": {},
   "outputs": [],
   "source": [
    "import webbrowser\n",
    "import time\n",
    "import pyautogui\n",
    "\n",
    "class WhatsApp:\n",
    "    def __init__(self) -> None:\n",
    "        \"\"\"\n",
    "            Make Sure to login to Whatsapp Web before using this\n",
    "        \"\"\"\n",
    "        print(\"Whatsapp Automation By Kanwar Adnan\")\n",
    "\n",
    "    def sendMsgs(self , contacts , msg , sendTime , autoClose = False):\n",
    "        for name,phone in contacts.items():\n",
    "            self.sendMsg(phone,msg,sendTime , autoClose)\n",
    "\n",
    "    def sendMsg(self, phone, msg , sendTime , autoClose = False):\n",
    "        # Making Special Url for Message\n",
    "        url = \"https://web.whatsapp.com/send?phone=\" + phone + \"&text=\" + msg + \"&app_absent=1\"\n",
    "        \n",
    "        # Loading the url\n",
    "        webbrowser.open(url)\n",
    "        \n",
    "        # Waiting Certain Time\n",
    "        time.sleep(sendTime)\n",
    "        \n",
    "        # Pressing Enter\n",
    "        pyautogui.press('enter')\n",
    "        \n",
    "        if autoClose:\n",
    "            # As soon as we press enter we're exiting from whatsapp\n",
    "            # Don't change Whatsapp Window otherwise this will close the current tab\n",
    "            pyautogui.hotkey('ctrl','w')\n",
    "            pyautogui.press('enter')"
   ]
  },
  {
   "cell_type": "code",
   "execution_count": 75,
   "id": "dec59f9d",
   "metadata": {},
   "outputs": [],
   "source": [
    "contacts = {\n",
    "    'Adnan' : '+923034197724',\n",
    "    'Adnan2' : '+923034197724'\n",
    "}"
   ]
  },
  {
   "cell_type": "code",
   "execution_count": 76,
   "id": "ba7d5d44",
   "metadata": {},
   "outputs": [
    {
     "name": "stdout",
     "output_type": "stream",
     "text": [
      "Whatsapp Automation By Kanwar Adnan\n"
     ]
    }
   ],
   "source": [
    "what = WhatsApp()"
   ]
  },
  {
   "cell_type": "code",
   "execution_count": 63,
   "id": "0dd92ec4",
   "metadata": {},
   "outputs": [],
   "source": [
    "what.sendMsg('+923034197724','Hello There My App',20)"
   ]
  },
  {
   "cell_type": "code",
   "execution_count": 72,
   "id": "a764a824",
   "metadata": {},
   "outputs": [],
   "source": [
    "what.sendMsgs(contacts,'Hello',30)"
   ]
  },
  {
   "cell_type": "code",
   "execution_count": 73,
   "id": "f7036739",
   "metadata": {},
   "outputs": [],
   "source": [
    "# I recommend you not to use autoClose feature. Becuase whatsapp message is not sent instantly\n",
    "# and it will be lost if you it didn't send"
   ]
  }
 ],
 "metadata": {
  "kernelspec": {
   "display_name": "Python 3 (ipykernel)",
   "language": "python",
   "name": "python3"
  },
  "language_info": {
   "codemirror_mode": {
    "name": "ipython",
    "version": 3
   },
   "file_extension": ".py",
   "mimetype": "text/x-python",
   "name": "python",
   "nbconvert_exporter": "python",
   "pygments_lexer": "ipython3",
   "version": "3.10.4"
  }
 },
 "nbformat": 4,
 "nbformat_minor": 5
}
