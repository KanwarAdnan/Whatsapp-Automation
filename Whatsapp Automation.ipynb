{
 "cells": [
  {
   "cell_type": "markdown",
   "id": "4f124223",
   "metadata": {},
   "source": [
    "# Automate Whatsapp By Kanwar Adnan"
   ]
  },
  {
   "cell_type": "code",
   "execution_count": 81,
   "id": "126ab617",
   "metadata": {},
   "outputs": [],
   "source": [
    "import webbrowser\n",
    "import time\n",
    "import pyautogui\n",
    "\n",
    "class WhatsApp:\n",
    "    def __init__(self) -> None:\n",
    "\n",
    "        \"\"\"\n",
    "            Make Sure to login to Whatsapp Web before using this\n",
    "        \"\"\"\n",
    "\n",
    "        print(\"Whatsapp Automation By Kanwar Adnan\")\n",
    "\n",
    "    def sendMsgs(self , contacts , msg , sendTime , autoClose = False):\n",
    "\n",
    "        \"\"\"\n",
    "            This method will send message to n contacts\n",
    "        \"\"\"\n",
    "\n",
    "        for name,phone in contacts.items():\n",
    "            self.sendMsg(phone,msg,sendTime , autoClose)\n",
    "\n",
    "    def sendMsg(self, phone, msg , sendTime , autoClose = False):\n",
    "\n",
    "        \"\"\"\n",
    "            This method will send message to given contact\n",
    "        \"\"\"\n",
    "\n",
    "        # Making Special Url for Message\n",
    "        url = \"https://web.whatsapp.com/send?phone=\" + phone + \"&text=\" + msg + \"&app_absent=1\"\n",
    "        \n",
    "        # Loading the url\n",
    "        webbrowser.open(url)\n",
    "        \n",
    "        # Waiting Certain Time\n",
    "        time.sleep(sendTime)\n",
    "        \n",
    "        # Pressing Enter\n",
    "        pyautogui.press('enter')\n",
    "        \n",
    "        if autoClose:\n",
    "            # As soon as we press enter we're exiting from whatsapp\n",
    "            # Don't change Whatsapp Window otherwise this will close the current tab\n",
    "            pyautogui.hotkey('ctrl','w')\n",
    "            pyautogui.press('enter')\n",
    "            \n",
    "    def autoMsg(self,msg,count):\n",
    "\n",
    "        \"\"\"\n",
    "            This method will send message n times\n",
    "        \"\"\"\n",
    "\n",
    "        print(\"Messages will be start sending after 5 seconds. Please Open Whatsapp Chat\")\n",
    "\n",
    "        time.sleep(5)\n",
    "\n",
    "        for i in range(count):\n",
    "            pyautogui.typewrite(msg)\n",
    "            pyautogui.press('enter')\n",
    "\n",
    "    def autoMsgList(self , msgs):\n",
    "        \n",
    "        \"\"\"\n",
    "            This method will send messages present in list\n",
    "        \"\"\"\n",
    "\n",
    "        print(\"Messages will be start sending after 5 seconds. Please Open Whatsapp Chat\")\n",
    "\n",
    "        time.sleep(5)\n",
    "        \n",
    "        for msg in msgs:\n",
    "            pyautogui.typewrite(msg)\n",
    "            pyautogui.press('enter')\n"
   ]
  },
  {
   "cell_type": "markdown",
   "id": "18d8e2a7",
   "metadata": {},
   "source": [
    "# Contacts Dictionary"
   ]
  },
  {
   "cell_type": "code",
   "execution_count": 82,
   "id": "f2440421",
   "metadata": {},
   "outputs": [],
   "source": [
    "contacts = {\n",
    "    'Adnan' : '+923034197724',\n",
    "    'Adnan2' : '+923034197724'\n",
    "}"
   ]
  },
  {
   "cell_type": "markdown",
   "id": "eddf24e6",
   "metadata": {},
   "source": [
    "# Whatsapp Class Object"
   ]
  },
  {
   "cell_type": "code",
   "execution_count": 83,
   "id": "3c209337",
   "metadata": {},
   "outputs": [
    {
     "name": "stdout",
     "output_type": "stream",
     "text": [
      "Whatsapp Automation By Kanwar Adnan\n"
     ]
    }
   ],
   "source": [
    "what = WhatsApp()"
   ]
  },
  {
   "cell_type": "markdown",
   "id": "c8181613",
   "metadata": {},
   "source": [
    "# Send Message (One)"
   ]
  },
  {
   "cell_type": "code",
   "execution_count": 63,
   "id": "f5831aee",
   "metadata": {},
   "outputs": [],
   "source": [
    "what.sendMsg('+923034197724','Hello There My App',20)"
   ]
  },
  {
   "cell_type": "markdown",
   "id": "06a10527",
   "metadata": {},
   "source": [
    "# Send Message (Many)"
   ]
  },
  {
   "cell_type": "code",
   "execution_count": 72,
   "id": "dc7ca594",
   "metadata": {},
   "outputs": [],
   "source": [
    "what.sendMsgs(contacts,'Hello',30)"
   ]
  },
  {
   "cell_type": "markdown",
   "id": "943a2a3c",
   "metadata": {},
   "source": [
    "# Warning"
   ]
  },
  {
   "cell_type": "code",
   "execution_count": 73,
   "id": "68a54ab0",
   "metadata": {},
   "outputs": [],
   "source": [
    "# I recommend you not to use autoClose feature. Becuase whatsapp message is not sent instantly\n",
    "# and it will be lost if it didn't send"
   ]
  },
  {
   "cell_type": "code",
   "execution_count": 84,
   "id": "10c53d24",
   "metadata": {},
   "outputs": [
    {
     "name": "stdout",
     "output_type": "stream",
     "text": [
      "Messages will be start sending after 5 seconds. Please Open Whatsapp Chat\n"
     ]
    }
   ],
   "source": [
    "what.autoMsg('Message',5)"
   ]
  },
  {
   "cell_type": "markdown",
   "id": "50e0bb91",
   "metadata": {},
   "source": [
    "# List of Messages to Send"
   ]
  },
  {
   "cell_type": "code",
   "execution_count": 85,
   "id": "8862ce89",
   "metadata": {},
   "outputs": [],
   "source": [
    "msgs = [\n",
    "    'Hello',\n",
    "    'What are you doing',\n",
    "    'Are you okay?'\n",
    "]"
   ]
  },
  {
   "cell_type": "code",
   "execution_count": 86,
   "id": "48b58f8b",
   "metadata": {},
   "outputs": [
    {
     "name": "stdout",
     "output_type": "stream",
     "text": [
      "Messages will be start sending after 5 seconds. Please Open Whatsapp Chat\n"
     ]
    }
   ],
   "source": [
    "what.autoMsgList(msgs)"
   ]
  },
  {
   "cell_type": "markdown",
   "id": "d27eeff4",
   "metadata": {},
   "source": [
    "# All rights are reserved to Kanwar Adnan"
   ]
  }
 ],
 "metadata": {
  "kernelspec": {
   "display_name": "Python 3 (ipykernel)",
   "language": "python",
   "name": "python3"
  },
  "language_info": {
   "codemirror_mode": {
    "name": "ipython",
    "version": 3
   },
   "file_extension": ".py",
   "mimetype": "text/x-python",
   "name": "python",
   "nbconvert_exporter": "python",
   "pygments_lexer": "ipython3",
   "version": "3.10.4"
  }
 },
 "nbformat": 4,
 "nbformat_minor": 5
}
