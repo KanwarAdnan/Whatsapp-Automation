{
  "nbformat": 4,
  "nbformat_minor": 0,
  "metadata": {
    "colab": {
      "provenance": []
    },
    "kernelspec": {
      "name": "python3",
      "display_name": "Python 3"
    },
    "language_info": {
      "name": "python"
    }
  },
  "cells": [
    {
      "cell_type": "code",
      "execution_count": null,
      "metadata": {
        "id": "UGAGnmZ9Z_hc"
      },
      "outputs": [],
      "source": [
        "# Requirements\n",
        "!pip install astropy>=3.1\n",
        "!pip install sunpy\n",
        "!pip install pbr simplejson requests wati_api"
      ]
    },
    {
      "cell_type": "code",
      "source": [
        "from wati_api import client"
      ],
      "metadata": {
        "id": "H-IxPFTdazN3"
      },
      "execution_count": 1,
      "outputs": []
    },
    {
      "cell_type": "code",
      "source": [
        "end_point = \"https://app-server.wati.io\"\n",
        "token = \"\""
      ],
      "metadata": {
        "id": "NJAOdH7GbcSr"
      },
      "execution_count": 2,
      "outputs": []
    },
    {
      "cell_type": "code",
      "source": [
        "ka_client = client.Client(end_point , token)"
      ],
      "metadata": {
        "id": "-9KBd7zIa5iC"
      },
      "execution_count": 3,
      "outputs": []
    },
    {
      "cell_type": "code",
      "source": [
        "message = ka_client.send_session_message(\n",
        "    whatsapp_number = \"+923034197724\",\n",
        "    message_text = \"Message From Python Script\"\n",
        ")"
      ],
      "metadata": {
        "id": "V1BD0jVBc5-P"
      },
      "execution_count": 4,
      "outputs": []
    },
    {
      "cell_type": "code",
      "source": [
        "print(message)"
      ],
      "metadata": {
        "colab": {
          "base_uri": "https://localhost:8080/"
        },
        "id": "DtJLMhtCfx1k",
        "outputId": "4d27743d-666e-43cf-dd1a-785b56857666"
      },
      "execution_count": 5,
      "outputs": [
        {
          "output_type": "stream",
          "name": "stdout",
          "text": [
            "{'ok': True, 'result': 'success', 'message': {'whatsappMessageId': 'gBEGkjA0GXckAgkXUEVxIozIezk', 'localMessageId': '47afa2ba-6a02-4394-a35f-fb1aa9c7ad88', 'text': 'Message From Python Script', 'media': None, 'messageContact': None, 'location': None, 'type': 'text', 'time': '1673099791', 'status': 1, 'statusString': None, 'isOwner': True, 'isUnread': False, 'ticketId': '63b97943aa25dacfb2b55efd', 'avatarUrl': None, 'assignedId': '63b97520aa25dacfb2b55cc8', 'operatorName': None, 'replyContextId': None, 'sourceType': 0, 'failedDetail': None, 'messageReferral': None, 'id': '63b97a0faa25dacfb2b55f47', 'created': '2023-01-07T13:56:30.9447118Z', 'conversationId': '63b97943aa25dacfb2b55efc'}}\n"
          ]
        }
      ]
    }
  ]
}